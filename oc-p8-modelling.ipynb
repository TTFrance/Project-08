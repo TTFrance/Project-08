{
 "cells": [
  {
   "cell_type": "code",
   "execution_count": 107,
   "metadata": {},
   "outputs": [],
   "source": [
    "import pandas as pd\n",
    "import numpy as np\n",
    "\n",
    "import matplotlib.pyplot as plt\n",
    "from matplotlib.image import imread\n",
    "\n",
    "import seaborn as sns\n",
    "\n",
    "from sklearn import decomposition\n",
    "\n",
    "from tensorflow.keras.applications.vgg16 import VGG16\n",
    "from tensorflow.keras.applications.vgg16 import preprocess_input as ppi_vgg16\n",
    "from tensorflow.keras.models import Sequential\n",
    "\n",
    "import os\n",
    "\n",
    "import warnings"
   ]
  },
  {
   "cell_type": "code",
   "execution_count": 108,
   "metadata": {},
   "outputs": [],
   "source": [
    "warnings.filterwarnings(\"ignore\")"
   ]
  },
  {
   "cell_type": "markdown",
   "metadata": {},
   "source": [
    "# CONSTANTS"
   ]
  },
  {
   "cell_type": "code",
   "execution_count": 109,
   "metadata": {},
   "outputs": [],
   "source": [
    "RAW_DATA_FILE_PATH = 'data/raw/'                # path to raw data folder\n",
    "CLEANED_DATA_FILE_PATH = 'data/cleaned/'        # path to cleaned data folder\n",
    "IMAGES_DIR = \"data/raw/\"                        # path to images"
   ]
  },
  {
   "cell_type": "markdown",
   "metadata": {},
   "source": [
    "# FUNCTIONS"
   ]
  },
  {
   "cell_type": "code",
   "execution_count": 110,
   "metadata": {},
   "outputs": [],
   "source": [
    "def preprocess_images(ppi,my_new_model):\n",
    "    feature_list = []\n",
    "\n",
    "    image_num = 0\n",
    "\n",
    "    for path, subdirs, files in os.walk(RAW_DATA_FILE_PATH):\n",
    "        for name in files:\n",
    "            image_num = image_num + 1\n",
    "            if image_num%10 == 0 : print(image_num,name)\n",
    "            file = os.path.join(path, name)\n",
    "            im = imread(file)\n",
    "            img = ppi(np.expand_dims(im.copy(), axis=0))\n",
    "            feature = my_new_model.predict(img)\n",
    "            feature_np = np.array(feature)\n",
    "            feature_list.append(feature_np.flatten())\n",
    "    array = np.array(feature_list)\n",
    "    return array"
   ]
  },
  {
   "cell_type": "code",
   "execution_count": 111,
   "metadata": {},
   "outputs": [],
   "source": [
    "def run_model(model,ppi):\n",
    "    my_new_model = Sequential()\n",
    "    my_new_model.add(model)\n",
    "    # Say not to train first layer (ResNet) model. It is already trained\n",
    "    my_new_model.layers[0].trainable = False\n",
    "    array = preprocess_images(ppi,my_new_model)\n",
    "    return array"
   ]
  },
  {
   "cell_type": "markdown",
   "metadata": {},
   "source": [
    "# READ IMAGES, CREATE DATAFRAME"
   ]
  },
  {
   "cell_type": "code",
   "execution_count": 112,
   "metadata": {},
   "outputs": [
    {
     "data": {
      "text/html": [
       "<div>\n",
       "<style scoped>\n",
       "    .dataframe tbody tr th:only-of-type {\n",
       "        vertical-align: middle;\n",
       "    }\n",
       "\n",
       "    .dataframe tbody tr th {\n",
       "        vertical-align: top;\n",
       "    }\n",
       "\n",
       "    .dataframe thead th {\n",
       "        text-align: right;\n",
       "    }\n",
       "</style>\n",
       "<table border=\"1\" class=\"dataframe\">\n",
       "  <thead>\n",
       "    <tr style=\"text-align: right;\">\n",
       "      <th></th>\n",
       "      <th>filename</th>\n",
       "      <th>fv_class</th>\n",
       "    </tr>\n",
       "  </thead>\n",
       "  <tbody>\n",
       "    <tr>\n",
       "      <th>0</th>\n",
       "      <td>0_100.jpg</td>\n",
       "      <td>banana</td>\n",
       "    </tr>\n",
       "    <tr>\n",
       "      <th>1</th>\n",
       "      <td>128_100.jpg</td>\n",
       "      <td>banana</td>\n",
       "    </tr>\n",
       "    <tr>\n",
       "      <th>2</th>\n",
       "      <td>180_100.jpg</td>\n",
       "      <td>banana</td>\n",
       "    </tr>\n",
       "    <tr>\n",
       "      <th>3</th>\n",
       "      <td>270_100.jpg</td>\n",
       "      <td>banana</td>\n",
       "    </tr>\n",
       "    <tr>\n",
       "      <th>4</th>\n",
       "      <td>35_100.jpg</td>\n",
       "      <td>banana</td>\n",
       "    </tr>\n",
       "  </tbody>\n",
       "</table>\n",
       "</div>"
      ],
      "text/plain": [
       "      filename fv_class\n",
       "0    0_100.jpg   banana\n",
       "1  128_100.jpg   banana\n",
       "2  180_100.jpg   banana\n",
       "3  270_100.jpg   banana\n",
       "4   35_100.jpg   banana"
      ]
     },
     "execution_count": 112,
     "metadata": {},
     "output_type": "execute_result"
    }
   ],
   "source": [
    "# read images, create df of filenames, and class (which type)\n",
    "\n",
    "fv = pd.DataFrame(columns=['filename','fv_class'])\n",
    "\n",
    "for path, subdirs, files in os.walk(RAW_DATA_FILE_PATH):\n",
    "    for name in files:\n",
    "        subfolder_name = path.replace(RAW_DATA_FILE_PATH,'')\n",
    "        fv.loc[len(fv)] = [name,subfolder_name]\n",
    "        \n",
    "fv.head()"
   ]
  },
  {
   "cell_type": "markdown",
   "metadata": {},
   "source": [
    "# VECTORIZATION BY VGG16"
   ]
  },
  {
   "cell_type": "code",
   "execution_count": 113,
   "metadata": {},
   "outputs": [
    {
     "name": "stdout",
     "output_type": "stream",
     "text": [
      "10 235_100.jpg\n",
      "20 100_100.jpg\n",
      "30 158_100.jpg\n"
     ]
    }
   ],
   "source": [
    "model = VGG16(include_top=False, pooling='avg', weights='imagenet')\n",
    "array = run_model(model,ppi_vgg16)"
   ]
  },
  {
   "cell_type": "markdown",
   "metadata": {},
   "source": [
    "# CREATE VECTOR DATAFRAME FROM VGG16 RESULTS"
   ]
  },
  {
   "cell_type": "code",
   "execution_count": 114,
   "metadata": {},
   "outputs": [
    {
     "data": {
      "text/html": [
       "<div>\n",
       "<style scoped>\n",
       "    .dataframe tbody tr th:only-of-type {\n",
       "        vertical-align: middle;\n",
       "    }\n",
       "\n",
       "    .dataframe tbody tr th {\n",
       "        vertical-align: top;\n",
       "    }\n",
       "\n",
       "    .dataframe thead th {\n",
       "        text-align: right;\n",
       "    }\n",
       "</style>\n",
       "<table border=\"1\" class=\"dataframe\">\n",
       "  <thead>\n",
       "    <tr style=\"text-align: right;\">\n",
       "      <th></th>\n",
       "      <th>0</th>\n",
       "      <th>1</th>\n",
       "      <th>2</th>\n",
       "      <th>3</th>\n",
       "      <th>4</th>\n",
       "      <th>5</th>\n",
       "      <th>6</th>\n",
       "      <th>7</th>\n",
       "      <th>8</th>\n",
       "      <th>9</th>\n",
       "      <th>...</th>\n",
       "      <th>504</th>\n",
       "      <th>505</th>\n",
       "      <th>506</th>\n",
       "      <th>507</th>\n",
       "      <th>508</th>\n",
       "      <th>509</th>\n",
       "      <th>510</th>\n",
       "      <th>511</th>\n",
       "      <th>filename</th>\n",
       "      <th>fv_class</th>\n",
       "    </tr>\n",
       "  </thead>\n",
       "  <tbody>\n",
       "    <tr>\n",
       "      <th>0</th>\n",
       "      <td>0.000000</td>\n",
       "      <td>1.671766</td>\n",
       "      <td>0.703813</td>\n",
       "      <td>0.000000</td>\n",
       "      <td>0.853446</td>\n",
       "      <td>0.000000</td>\n",
       "      <td>0.000000</td>\n",
       "      <td>1.083064</td>\n",
       "      <td>0.0</td>\n",
       "      <td>2.560714</td>\n",
       "      <td>...</td>\n",
       "      <td>0.000000</td>\n",
       "      <td>0.0</td>\n",
       "      <td>2.070888</td>\n",
       "      <td>0.0</td>\n",
       "      <td>0.0</td>\n",
       "      <td>0.000000</td>\n",
       "      <td>0.408518</td>\n",
       "      <td>0.000000</td>\n",
       "      <td>0_100.jpg</td>\n",
       "      <td>banana</td>\n",
       "    </tr>\n",
       "    <tr>\n",
       "      <th>1</th>\n",
       "      <td>0.000000</td>\n",
       "      <td>6.656352</td>\n",
       "      <td>0.000000</td>\n",
       "      <td>1.003132</td>\n",
       "      <td>2.579631</td>\n",
       "      <td>0.000000</td>\n",
       "      <td>9.956829</td>\n",
       "      <td>0.000000</td>\n",
       "      <td>0.0</td>\n",
       "      <td>0.000000</td>\n",
       "      <td>...</td>\n",
       "      <td>0.856359</td>\n",
       "      <td>0.0</td>\n",
       "      <td>0.000000</td>\n",
       "      <td>0.0</td>\n",
       "      <td>0.0</td>\n",
       "      <td>0.000000</td>\n",
       "      <td>0.000000</td>\n",
       "      <td>0.000000</td>\n",
       "      <td>128_100.jpg</td>\n",
       "      <td>banana</td>\n",
       "    </tr>\n",
       "    <tr>\n",
       "      <th>2</th>\n",
       "      <td>1.884784</td>\n",
       "      <td>2.675988</td>\n",
       "      <td>0.719963</td>\n",
       "      <td>0.000000</td>\n",
       "      <td>4.340486</td>\n",
       "      <td>3.075186</td>\n",
       "      <td>6.648093</td>\n",
       "      <td>0.000000</td>\n",
       "      <td>0.0</td>\n",
       "      <td>0.343381</td>\n",
       "      <td>...</td>\n",
       "      <td>0.000000</td>\n",
       "      <td>0.0</td>\n",
       "      <td>3.260953</td>\n",
       "      <td>0.0</td>\n",
       "      <td>0.0</td>\n",
       "      <td>1.777546</td>\n",
       "      <td>0.540553</td>\n",
       "      <td>0.000000</td>\n",
       "      <td>180_100.jpg</td>\n",
       "      <td>banana</td>\n",
       "    </tr>\n",
       "    <tr>\n",
       "      <th>3</th>\n",
       "      <td>0.000000</td>\n",
       "      <td>4.177713</td>\n",
       "      <td>0.000000</td>\n",
       "      <td>0.000000</td>\n",
       "      <td>2.412080</td>\n",
       "      <td>0.000000</td>\n",
       "      <td>0.000000</td>\n",
       "      <td>0.000000</td>\n",
       "      <td>0.0</td>\n",
       "      <td>16.823223</td>\n",
       "      <td>...</td>\n",
       "      <td>0.000000</td>\n",
       "      <td>0.0</td>\n",
       "      <td>6.579794</td>\n",
       "      <td>0.0</td>\n",
       "      <td>0.0</td>\n",
       "      <td>0.014079</td>\n",
       "      <td>0.818676</td>\n",
       "      <td>0.000000</td>\n",
       "      <td>270_100.jpg</td>\n",
       "      <td>banana</td>\n",
       "    </tr>\n",
       "    <tr>\n",
       "      <th>4</th>\n",
       "      <td>0.000000</td>\n",
       "      <td>1.119263</td>\n",
       "      <td>0.000000</td>\n",
       "      <td>0.000000</td>\n",
       "      <td>3.402102</td>\n",
       "      <td>0.996732</td>\n",
       "      <td>1.910960</td>\n",
       "      <td>0.000000</td>\n",
       "      <td>0.0</td>\n",
       "      <td>0.000000</td>\n",
       "      <td>...</td>\n",
       "      <td>0.000000</td>\n",
       "      <td>0.0</td>\n",
       "      <td>4.131537</td>\n",
       "      <td>0.0</td>\n",
       "      <td>0.0</td>\n",
       "      <td>0.000000</td>\n",
       "      <td>0.000000</td>\n",
       "      <td>0.046131</td>\n",
       "      <td>35_100.jpg</td>\n",
       "      <td>banana</td>\n",
       "    </tr>\n",
       "  </tbody>\n",
       "</table>\n",
       "<p>5 rows × 514 columns</p>\n",
       "</div>"
      ],
      "text/plain": [
       "          0         1         2         3         4         5         6  \\\n",
       "0  0.000000  1.671766  0.703813  0.000000  0.853446  0.000000  0.000000   \n",
       "1  0.000000  6.656352  0.000000  1.003132  2.579631  0.000000  9.956829   \n",
       "2  1.884784  2.675988  0.719963  0.000000  4.340486  3.075186  6.648093   \n",
       "3  0.000000  4.177713  0.000000  0.000000  2.412080  0.000000  0.000000   \n",
       "4  0.000000  1.119263  0.000000  0.000000  3.402102  0.996732  1.910960   \n",
       "\n",
       "          7    8          9  ...       504  505       506  507  508       509  \\\n",
       "0  1.083064  0.0   2.560714  ...  0.000000  0.0  2.070888  0.0  0.0  0.000000   \n",
       "1  0.000000  0.0   0.000000  ...  0.856359  0.0  0.000000  0.0  0.0  0.000000   \n",
       "2  0.000000  0.0   0.343381  ...  0.000000  0.0  3.260953  0.0  0.0  1.777546   \n",
       "3  0.000000  0.0  16.823223  ...  0.000000  0.0  6.579794  0.0  0.0  0.014079   \n",
       "4  0.000000  0.0   0.000000  ...  0.000000  0.0  4.131537  0.0  0.0  0.000000   \n",
       "\n",
       "        510       511     filename  fv_class  \n",
       "0  0.408518  0.000000    0_100.jpg    banana  \n",
       "1  0.000000  0.000000  128_100.jpg    banana  \n",
       "2  0.540553  0.000000  180_100.jpg    banana  \n",
       "3  0.818676  0.000000  270_100.jpg    banana  \n",
       "4  0.000000  0.046131   35_100.jpg    banana  \n",
       "\n",
       "[5 rows x 514 columns]"
      ]
     },
     "execution_count": 114,
     "metadata": {},
     "output_type": "execute_result"
    }
   ],
   "source": [
    "# create df from model vector\n",
    "df_vec = pd.DataFrame(array)\n",
    "\n",
    "# add image filename and category\n",
    "df_vec['filename'] = fv.filename\n",
    "df_vec['fv_class'] = fv.fv_class\n",
    "\n",
    "df_vec.head()"
   ]
  },
  {
   "cell_type": "markdown",
   "metadata": {},
   "source": [
    "# RUN PCA FOR REDUCTION TO 2 COMPONENTS"
   ]
  },
  {
   "cell_type": "code",
   "execution_count": 115,
   "metadata": {},
   "outputs": [
    {
     "data": {
      "text/html": [
       "<div>\n",
       "<style scoped>\n",
       "    .dataframe tbody tr th:only-of-type {\n",
       "        vertical-align: middle;\n",
       "    }\n",
       "\n",
       "    .dataframe tbody tr th {\n",
       "        vertical-align: top;\n",
       "    }\n",
       "\n",
       "    .dataframe thead th {\n",
       "        text-align: right;\n",
       "    }\n",
       "</style>\n",
       "<table border=\"1\" class=\"dataframe\">\n",
       "  <thead>\n",
       "    <tr style=\"text-align: right;\">\n",
       "      <th></th>\n",
       "      <th>0</th>\n",
       "      <th>1</th>\n",
       "      <th>filename</th>\n",
       "      <th>fv_class</th>\n",
       "    </tr>\n",
       "  </thead>\n",
       "  <tbody>\n",
       "    <tr>\n",
       "      <th>0</th>\n",
       "      <td>-42.425919</td>\n",
       "      <td>119.633118</td>\n",
       "      <td>0_100.jpg</td>\n",
       "      <td>banana</td>\n",
       "    </tr>\n",
       "    <tr>\n",
       "      <th>1</th>\n",
       "      <td>-14.384988</td>\n",
       "      <td>173.165054</td>\n",
       "      <td>128_100.jpg</td>\n",
       "      <td>banana</td>\n",
       "    </tr>\n",
       "    <tr>\n",
       "      <th>2</th>\n",
       "      <td>-41.490170</td>\n",
       "      <td>73.415344</td>\n",
       "      <td>180_100.jpg</td>\n",
       "      <td>banana</td>\n",
       "    </tr>\n",
       "    <tr>\n",
       "      <th>3</th>\n",
       "      <td>-19.745312</td>\n",
       "      <td>165.935638</td>\n",
       "      <td>270_100.jpg</td>\n",
       "      <td>banana</td>\n",
       "    </tr>\n",
       "    <tr>\n",
       "      <th>4</th>\n",
       "      <td>-35.896481</td>\n",
       "      <td>65.490448</td>\n",
       "      <td>35_100.jpg</td>\n",
       "      <td>banana</td>\n",
       "    </tr>\n",
       "  </tbody>\n",
       "</table>\n",
       "</div>"
      ],
      "text/plain": [
       "           0           1     filename fv_class\n",
       "0 -42.425919  119.633118    0_100.jpg   banana\n",
       "1 -14.384988  173.165054  128_100.jpg   banana\n",
       "2 -41.490170   73.415344  180_100.jpg   banana\n",
       "3 -19.745312  165.935638  270_100.jpg   banana\n",
       "4 -35.896481   65.490448   35_100.jpg   banana"
      ]
     },
     "execution_count": 115,
     "metadata": {},
     "output_type": "execute_result"
    }
   ],
   "source": [
    "# define pca\n",
    "pca = decomposition.PCA(n_components=2)\n",
    "\n",
    "# run pca\n",
    "array_pca_out = pca.fit_transform(df_vec.drop(columns=['filename','fv_class']))\n",
    "\n",
    "# pca results to dataframe\n",
    "df_pca = pd.DataFrame(array_pca_out)\n",
    "\n",
    "# add filename and category\n",
    "df_pca['filename'] = df_vec['filename']\n",
    "df_pca['fv_class'] = df_vec['fv_class']\n",
    "\n",
    "df_pca.head()"
   ]
  },
  {
   "cell_type": "markdown",
   "metadata": {},
   "source": [
    "# MATPLOTLIB SCATTER PLOT"
   ]
  },
  {
   "cell_type": "code",
   "execution_count": 116,
   "metadata": {},
   "outputs": [
    {
     "data": {
      "image/png": "[encoded data removed]",
      "text/plain": [
       "<Figure size 800x600 with 1 Axes>"
      ]
     },
     "metadata": {},
     "output_type": "display_data"
    }
   ],
   "source": [
    "# start plot\n",
    "fig = plt.figure(figsize=(8,6))\n",
    "ax = fig.add_subplot(111)\n",
    "\n",
    "# colormap for scatterplot\n",
    "colours = {'pear':'green',\n",
    "    'banana':'yellow',\n",
    "    'cauliflower':'blue',\n",
    "    'ginger':'red',\n",
    "    'grannysmith':'orange'}\n",
    "\n",
    "scatter = ax.scatter(df_pca[0],df_pca[1],c=df_pca['fv_class'].map(colours))\n",
    "\n",
    "plt.xlabel('PCA Component 1')\n",
    "plt.ylabel('PCA Component 2')\n",
    "plt.title('PCA Représentation des fruit et legumes par catégorie')\n",
    "plt.show()"
   ]
  },
  {
   "cell_type": "markdown",
   "metadata": {},
   "source": [
    "# SEABORN SCATTERPLOT"
   ]
  },
  {
   "cell_type": "code",
   "execution_count": 117,
   "metadata": {},
   "outputs": [
    {
     "data": {
      "image/png": "[encoded data removed]",
      "text/plain": [
       "<Figure size 800x600 with 1 Axes>"
      ]
     },
     "metadata": {},
     "output_type": "display_data"
    }
   ],
   "source": [
    "# scatter with seaborn\n",
    "\n",
    "# start plot\n",
    "fig = plt.figure(figsize=(8,6))\n",
    "ax = fig.add_subplot(111)\n",
    "\n",
    "sns.scatterplot(data=df_pca, x=0, y=1, hue='fv_class')\n",
    "plt.xlabel('PCA Component 1')\n",
    "plt.ylabel('PCA Component 2')\n",
    "plt.title('PCA Représentation des fruit et legumes par catégorie')\n",
    "plt.show()"
   ]
  }
 ],
 "metadata": {
  "kernelspec": {
   "display_name": "Python 3.7.13 ('tf2')",
   "language": "python",
   "name": "python3"
  },
  "language_info": {
   "codemirror_mode": {
    "name": "ipython",
    "version": 3
   },
   "file_extension": ".py",
   "mimetype": "text/x-python",
   "name": "python",
   "nbconvert_exporter": "python",
   "pygments_lexer": "ipython3",
   "version": "3.7.13"
  },
  "orig_nbformat": 4,
  "vscode": {
   "interpreter": {
    "hash": "bcb764b9a00f62e40f983adef7b01fce9cd131e3380f7d357619ca1e66e08949"
   }
  }
 },
 "nbformat": 4,
 "nbformat_minor": 2
}
