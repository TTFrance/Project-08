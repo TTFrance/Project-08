{
 "cells": [
  {
   "cell_type": "code",
   "execution_count": 1,
   "metadata": {},
   "outputs": [],
   "source": [
    "import pandas as pd\n",
    "import numpy as np"
   ]
  },
  {
   "cell_type": "code",
   "execution_count": 2,
   "metadata": {},
   "outputs": [],
   "source": [
    "import matplotlib.pyplot as plt\n",
    "from matplotlib.image import imread"
   ]
  },
  {
   "cell_type": "code",
   "execution_count": 3,
   "metadata": {},
   "outputs": [],
   "source": [
    "import seaborn as sns"
   ]
  },
  {
   "cell_type": "code",
   "execution_count": 4,
   "metadata": {},
   "outputs": [],
   "source": [
    "from sklearn import decomposition\n",
    "from sklearn.preprocessing import StandardScaler"
   ]
  },
  {
   "cell_type": "code",
   "execution_count": 5,
   "metadata": {},
   "outputs": [],
   "source": [
    "from tensorflow.keras.applications.vgg16 import VGG16\n",
    "from tensorflow.keras.applications.vgg16 import preprocess_input as ppi_vgg16\n",
    "from tensorflow.keras.models import Sequential"
   ]
  },
  {
   "cell_type": "code",
   "execution_count": 6,
   "metadata": {},
   "outputs": [],
   "source": [
    "import os\n",
    "import warnings"
   ]
  },
  {
   "cell_type": "code",
   "execution_count": 7,
   "metadata": {},
   "outputs": [],
   "source": [
    "warnings.filterwarnings(\"ignore\")"
   ]
  },
  {
   "cell_type": "markdown",
   "metadata": {},
   "source": [
    "# CONSTANTS"
   ]
  },
  {
   "cell_type": "code",
   "execution_count": 8,
   "metadata": {},
   "outputs": [],
   "source": [
    "RAW_DATA_FILE_PATH = 'data/raw/'                # path to raw data folder\n",
    "CLEANED_DATA_FILE_PATH = 'data/cleaned/'        # path to cleaned data folder\n",
    "IMAGES_DIR = \"data/raw/\"                        # path to images"
   ]
  },
  {
   "cell_type": "markdown",
   "metadata": {},
   "source": [
    "# FUNCTIONS"
   ]
  },
  {
   "cell_type": "code",
   "execution_count": 9,
   "metadata": {},
   "outputs": [],
   "source": [
    "def preprocess_images(ppi,my_new_model):\n",
    "    feature_list = []\n",
    "\n",
    "    image_num = 0\n",
    "\n",
    "    for path, subdirs, files in os.walk(RAW_DATA_FILE_PATH):\n",
    "        for name in files:\n",
    "            image_num = image_num + 1\n",
    "            if image_num%10 == 0 : print(image_num,name)\n",
    "            file = os.path.join(path, name)\n",
    "            im = imread(file)\n",
    "            img = ppi(np.expand_dims(im.copy(), axis=0))\n",
    "            feature = my_new_model.predict(img)\n",
    "            feature_np = np.array(feature)\n",
    "            feature_list.append(feature_np.flatten())\n",
    "    array = np.array(feature_list)\n",
    "    return array"
   ]
  },
  {
   "cell_type": "code",
   "execution_count": 10,
   "metadata": {},
   "outputs": [],
   "source": [
    "def run_model(model,ppi):\n",
    "    my_new_model = Sequential()\n",
    "    my_new_model.add(model)\n",
    "    # Say not to train first layer model. It is already trained\n",
    "    my_new_model.layers[0].trainable = False\n",
    "    array = preprocess_images(ppi,my_new_model)\n",
    "    return array"
   ]
  },
  {
   "cell_type": "markdown",
   "metadata": {},
   "source": [
    "# READ IMAGES, CREATE DATAFRAME"
   ]
  },
  {
   "cell_type": "code",
   "execution_count": 11,
   "metadata": {},
   "outputs": [
    {
     "data": {
      "text/html": [
       "<div>\n",
       "<style scoped>\n",
       "    .dataframe tbody tr th:only-of-type {\n",
       "        vertical-align: middle;\n",
       "    }\n",
       "\n",
       "    .dataframe tbody tr th {\n",
       "        vertical-align: top;\n",
       "    }\n",
       "\n",
       "    .dataframe thead th {\n",
       "        text-align: right;\n",
       "    }\n",
       "</style>\n",
       "<table border=\"1\" class=\"dataframe\">\n",
       "  <thead>\n",
       "    <tr style=\"text-align: right;\">\n",
       "      <th></th>\n",
       "      <th>filename</th>\n",
       "      <th>fv_class</th>\n",
       "    </tr>\n",
       "  </thead>\n",
       "  <tbody>\n",
       "    <tr>\n",
       "      <th>0</th>\n",
       "      <td>0_100.jpg</td>\n",
       "      <td>banana</td>\n",
       "    </tr>\n",
       "    <tr>\n",
       "      <th>1</th>\n",
       "      <td>128_100.jpg</td>\n",
       "      <td>banana</td>\n",
       "    </tr>\n",
       "    <tr>\n",
       "      <th>2</th>\n",
       "      <td>180_100.jpg</td>\n",
       "      <td>banana</td>\n",
       "    </tr>\n",
       "    <tr>\n",
       "      <th>3</th>\n",
       "      <td>270_100.jpg</td>\n",
       "      <td>banana</td>\n",
       "    </tr>\n",
       "    <tr>\n",
       "      <th>4</th>\n",
       "      <td>35_100.jpg</td>\n",
       "      <td>banana</td>\n",
       "    </tr>\n",
       "  </tbody>\n",
       "</table>\n",
       "</div>"
      ],
      "text/plain": [
       "      filename fv_class\n",
       "0    0_100.jpg   banana\n",
       "1  128_100.jpg   banana\n",
       "2  180_100.jpg   banana\n",
       "3  270_100.jpg   banana\n",
       "4   35_100.jpg   banana"
      ]
     },
     "execution_count": 11,
     "metadata": {},
     "output_type": "execute_result"
    }
   ],
   "source": [
    "# read images, create df of filenames, and class (which type)\n",
    "\n",
    "fv = pd.DataFrame(columns=['filename','fv_class'])\n",
    "\n",
    "for path, subdirs, files in os.walk(RAW_DATA_FILE_PATH):\n",
    "    for name in files:\n",
    "        subfolder_name = path.replace(RAW_DATA_FILE_PATH,'')\n",
    "        fv.loc[len(fv)] = [name,subfolder_name]\n",
    "        \n",
    "fv.head()"
   ]
  },
  {
   "cell_type": "markdown",
   "metadata": {},
   "source": [
    "# VECTORIZATION BY VGG16"
   ]
  },
  {
   "cell_type": "code",
   "execution_count": 12,
   "metadata": {},
   "outputs": [
    {
     "name": "stdout",
     "output_type": "stream",
     "text": [
      "10 235_100.jpg\n",
      "20 100_100.jpg\n",
      "30 158_100.jpg\n"
     ]
    }
   ],
   "source": [
    "#model = VGG16(include_top=False, pooling='avg', weights='imagenet')\n",
    "model = VGG16(include_top=False, weights='imagenet')\n",
    "array = run_model(model,ppi_vgg16)\n"
   ]
  },
  {
   "cell_type": "markdown",
   "metadata": {},
   "source": [
    "# SCALING"
   ]
  },
  {
   "cell_type": "code",
   "execution_count": 13,
   "metadata": {},
   "outputs": [],
   "source": [
    "scaler = StandardScaler()\n",
    "\n",
    "array_scaled = scaler.fit_transform(array)"
   ]
  },
  {
   "cell_type": "code",
   "execution_count": 15,
   "metadata": {},
   "outputs": [
    {
     "name": "stdout",
     "output_type": "stream",
     "text": [
      "(31, 4608)\n",
      "(31, 4608)\n"
     ]
    }
   ],
   "source": [
    "print (array.shape)\n",
    "print (array_scaled.shape)"
   ]
  },
  {
   "cell_type": "markdown",
   "metadata": {},
   "source": [
    "# CREATE VECTOR DATAFRAME FROM VGG16 RESULTS"
   ]
  },
  {
   "cell_type": "code",
   "execution_count": 16,
   "metadata": {},
   "outputs": [
    {
     "data": {
      "text/html": [
       "<div>\n",
       "<style scoped>\n",
       "    .dataframe tbody tr th:only-of-type {\n",
       "        vertical-align: middle;\n",
       "    }\n",
       "\n",
       "    .dataframe tbody tr th {\n",
       "        vertical-align: top;\n",
       "    }\n",
       "\n",
       "    .dataframe thead th {\n",
       "        text-align: right;\n",
       "    }\n",
       "</style>\n",
       "<table border=\"1\" class=\"dataframe\">\n",
       "  <thead>\n",
       "    <tr style=\"text-align: right;\">\n",
       "      <th></th>\n",
       "      <th>0</th>\n",
       "      <th>1</th>\n",
       "      <th>2</th>\n",
       "      <th>3</th>\n",
       "      <th>4</th>\n",
       "      <th>5</th>\n",
       "      <th>6</th>\n",
       "      <th>7</th>\n",
       "      <th>8</th>\n",
       "      <th>9</th>\n",
       "      <th>...</th>\n",
       "      <th>4600</th>\n",
       "      <th>4601</th>\n",
       "      <th>4602</th>\n",
       "      <th>4603</th>\n",
       "      <th>4604</th>\n",
       "      <th>4605</th>\n",
       "      <th>4606</th>\n",
       "      <th>4607</th>\n",
       "      <th>filename</th>\n",
       "      <th>fv_class</th>\n",
       "    </tr>\n",
       "  </thead>\n",
       "  <tbody>\n",
       "    <tr>\n",
       "      <th>0</th>\n",
       "      <td>-0.356363</td>\n",
       "      <td>-0.247777</td>\n",
       "      <td>-0.548079</td>\n",
       "      <td>-0.260071</td>\n",
       "      <td>-0.252961</td>\n",
       "      <td>0.0</td>\n",
       "      <td>0.0</td>\n",
       "      <td>0.0</td>\n",
       "      <td>0.0</td>\n",
       "      <td>0.0</td>\n",
       "      <td>...</td>\n",
       "      <td>-0.292827</td>\n",
       "      <td>0.0</td>\n",
       "      <td>-0.182574</td>\n",
       "      <td>0.0</td>\n",
       "      <td>0.0</td>\n",
       "      <td>0.0</td>\n",
       "      <td>1.929718</td>\n",
       "      <td>-0.186526</td>\n",
       "      <td>0_100.jpg</td>\n",
       "      <td>banana</td>\n",
       "    </tr>\n",
       "    <tr>\n",
       "      <th>1</th>\n",
       "      <td>-0.356363</td>\n",
       "      <td>4.897294</td>\n",
       "      <td>-0.548079</td>\n",
       "      <td>3.224580</td>\n",
       "      <td>2.437803</td>\n",
       "      <td>0.0</td>\n",
       "      <td>0.0</td>\n",
       "      <td>0.0</td>\n",
       "      <td>0.0</td>\n",
       "      <td>0.0</td>\n",
       "      <td>...</td>\n",
       "      <td>4.756949</td>\n",
       "      <td>0.0</td>\n",
       "      <td>-0.182574</td>\n",
       "      <td>0.0</td>\n",
       "      <td>0.0</td>\n",
       "      <td>0.0</td>\n",
       "      <td>-0.313065</td>\n",
       "      <td>-0.186526</td>\n",
       "      <td>128_100.jpg</td>\n",
       "      <td>banana</td>\n",
       "    </tr>\n",
       "    <tr>\n",
       "      <th>2</th>\n",
       "      <td>-0.356363</td>\n",
       "      <td>-0.247777</td>\n",
       "      <td>-0.548079</td>\n",
       "      <td>-0.260071</td>\n",
       "      <td>-0.252961</td>\n",
       "      <td>0.0</td>\n",
       "      <td>0.0</td>\n",
       "      <td>0.0</td>\n",
       "      <td>0.0</td>\n",
       "      <td>0.0</td>\n",
       "      <td>...</td>\n",
       "      <td>-0.292827</td>\n",
       "      <td>0.0</td>\n",
       "      <td>5.477226</td>\n",
       "      <td>0.0</td>\n",
       "      <td>0.0</td>\n",
       "      <td>0.0</td>\n",
       "      <td>2.654601</td>\n",
       "      <td>-0.186526</td>\n",
       "      <td>180_100.jpg</td>\n",
       "      <td>banana</td>\n",
       "    </tr>\n",
       "    <tr>\n",
       "      <th>3</th>\n",
       "      <td>-0.356363</td>\n",
       "      <td>-0.247777</td>\n",
       "      <td>-0.548079</td>\n",
       "      <td>-0.260071</td>\n",
       "      <td>-0.252961</td>\n",
       "      <td>0.0</td>\n",
       "      <td>0.0</td>\n",
       "      <td>0.0</td>\n",
       "      <td>0.0</td>\n",
       "      <td>0.0</td>\n",
       "      <td>...</td>\n",
       "      <td>-0.292827</td>\n",
       "      <td>0.0</td>\n",
       "      <td>-0.182574</td>\n",
       "      <td>0.0</td>\n",
       "      <td>0.0</td>\n",
       "      <td>0.0</td>\n",
       "      <td>4.181507</td>\n",
       "      <td>-0.186526</td>\n",
       "      <td>270_100.jpg</td>\n",
       "      <td>banana</td>\n",
       "    </tr>\n",
       "    <tr>\n",
       "      <th>4</th>\n",
       "      <td>-0.356363</td>\n",
       "      <td>-0.247777</td>\n",
       "      <td>-0.548079</td>\n",
       "      <td>-0.260071</td>\n",
       "      <td>-0.252961</td>\n",
       "      <td>0.0</td>\n",
       "      <td>0.0</td>\n",
       "      <td>0.0</td>\n",
       "      <td>0.0</td>\n",
       "      <td>0.0</td>\n",
       "      <td>...</td>\n",
       "      <td>-0.292827</td>\n",
       "      <td>0.0</td>\n",
       "      <td>-0.182574</td>\n",
       "      <td>0.0</td>\n",
       "      <td>0.0</td>\n",
       "      <td>0.0</td>\n",
       "      <td>-0.313065</td>\n",
       "      <td>5.476000</td>\n",
       "      <td>35_100.jpg</td>\n",
       "      <td>banana</td>\n",
       "    </tr>\n",
       "  </tbody>\n",
       "</table>\n",
       "<p>5 rows × 4610 columns</p>\n",
       "</div>"
      ],
      "text/plain": [
       "          0         1         2         3         4    5    6    7    8    9  \\\n",
       "0 -0.356363 -0.247777 -0.548079 -0.260071 -0.252961  0.0  0.0  0.0  0.0  0.0   \n",
       "1 -0.356363  4.897294 -0.548079  3.224580  2.437803  0.0  0.0  0.0  0.0  0.0   \n",
       "2 -0.356363 -0.247777 -0.548079 -0.260071 -0.252961  0.0  0.0  0.0  0.0  0.0   \n",
       "3 -0.356363 -0.247777 -0.548079 -0.260071 -0.252961  0.0  0.0  0.0  0.0  0.0   \n",
       "4 -0.356363 -0.247777 -0.548079 -0.260071 -0.252961  0.0  0.0  0.0  0.0  0.0   \n",
       "\n",
       "   ...      4600  4601      4602  4603  4604  4605      4606      4607  \\\n",
       "0  ... -0.292827   0.0 -0.182574   0.0   0.0   0.0  1.929718 -0.186526   \n",
       "1  ...  4.756949   0.0 -0.182574   0.0   0.0   0.0 -0.313065 -0.186526   \n",
       "2  ... -0.292827   0.0  5.477226   0.0   0.0   0.0  2.654601 -0.186526   \n",
       "3  ... -0.292827   0.0 -0.182574   0.0   0.0   0.0  4.181507 -0.186526   \n",
       "4  ... -0.292827   0.0 -0.182574   0.0   0.0   0.0 -0.313065  5.476000   \n",
       "\n",
       "      filename  fv_class  \n",
       "0    0_100.jpg    banana  \n",
       "1  128_100.jpg    banana  \n",
       "2  180_100.jpg    banana  \n",
       "3  270_100.jpg    banana  \n",
       "4   35_100.jpg    banana  \n",
       "\n",
       "[5 rows x 4610 columns]"
      ]
     },
     "execution_count": 16,
     "metadata": {},
     "output_type": "execute_result"
    }
   ],
   "source": [
    "# create df from model vector\n",
    "df_vec = pd.DataFrame(array_scaled)\n",
    "\n",
    "# add image filename and category\n",
    "df_vec['filename'] = fv.filename\n",
    "df_vec['fv_class'] = fv.fv_class\n",
    "\n",
    "df_vec.head()"
   ]
  },
  {
   "cell_type": "markdown",
   "metadata": {},
   "source": [
    "# RUN PCA FOR REDUCTION TO 2 COMPONENTS"
   ]
  },
  {
   "cell_type": "code",
   "execution_count": 17,
   "metadata": {},
   "outputs": [
    {
     "data": {
      "text/html": [
       "<div>\n",
       "<style scoped>\n",
       "    .dataframe tbody tr th:only-of-type {\n",
       "        vertical-align: middle;\n",
       "    }\n",
       "\n",
       "    .dataframe tbody tr th {\n",
       "        vertical-align: top;\n",
       "    }\n",
       "\n",
       "    .dataframe thead th {\n",
       "        text-align: right;\n",
       "    }\n",
       "</style>\n",
       "<table border=\"1\" class=\"dataframe\">\n",
       "  <thead>\n",
       "    <tr style=\"text-align: right;\">\n",
       "      <th></th>\n",
       "      <th>0</th>\n",
       "      <th>1</th>\n",
       "      <th>filename</th>\n",
       "      <th>fv_class</th>\n",
       "    </tr>\n",
       "  </thead>\n",
       "  <tbody>\n",
       "    <tr>\n",
       "      <th>0</th>\n",
       "      <td>-8.235987</td>\n",
       "      <td>40.053181</td>\n",
       "      <td>0_100.jpg</td>\n",
       "      <td>banana</td>\n",
       "    </tr>\n",
       "    <tr>\n",
       "      <th>1</th>\n",
       "      <td>-2.621400</td>\n",
       "      <td>33.443474</td>\n",
       "      <td>128_100.jpg</td>\n",
       "      <td>banana</td>\n",
       "    </tr>\n",
       "    <tr>\n",
       "      <th>2</th>\n",
       "      <td>-6.802118</td>\n",
       "      <td>23.259010</td>\n",
       "      <td>180_100.jpg</td>\n",
       "      <td>banana</td>\n",
       "    </tr>\n",
       "    <tr>\n",
       "      <th>3</th>\n",
       "      <td>-6.480217</td>\n",
       "      <td>48.968109</td>\n",
       "      <td>270_100.jpg</td>\n",
       "      <td>banana</td>\n",
       "    </tr>\n",
       "    <tr>\n",
       "      <th>4</th>\n",
       "      <td>-5.276463</td>\n",
       "      <td>15.363815</td>\n",
       "      <td>35_100.jpg</td>\n",
       "      <td>banana</td>\n",
       "    </tr>\n",
       "  </tbody>\n",
       "</table>\n",
       "</div>"
      ],
      "text/plain": [
       "          0          1     filename fv_class\n",
       "0 -8.235987  40.053181    0_100.jpg   banana\n",
       "1 -2.621400  33.443474  128_100.jpg   banana\n",
       "2 -6.802118  23.259010  180_100.jpg   banana\n",
       "3 -6.480217  48.968109  270_100.jpg   banana\n",
       "4 -5.276463  15.363815   35_100.jpg   banana"
      ]
     },
     "execution_count": 17,
     "metadata": {},
     "output_type": "execute_result"
    }
   ],
   "source": [
    "# define pca\n",
    "pca = decomposition.PCA(n_components=2)\n",
    "\n",
    "# run pca\n",
    "array_pca_out = pca.fit_transform(df_vec.drop(columns=['filename','fv_class']))\n",
    "\n",
    "# pca results to dataframe\n",
    "df_pca = pd.DataFrame(array_pca_out)\n",
    "\n",
    "# add filename and category\n",
    "df_pca['filename'] = df_vec['filename']\n",
    "df_pca['fv_class'] = df_vec['fv_class']\n",
    "\n",
    "df_pca.head()"
   ]
  },
  {
   "cell_type": "markdown",
   "metadata": {},
   "source": [
    "# MATPLOTLIB SCATTER PLOT"
   ]
  },
  {
   "cell_type": "code",
   "execution_count": 18,
   "metadata": {},
   "outputs": [
    {
     "data": {
      "image/png": "[encoded data removed]",
      "text/plain": [
       "<Figure size 800x600 with 1 Axes>"
      ]
     },
     "metadata": {},
     "output_type": "display_data"
    }
   ],
   "source": [
    "# start plot\n",
    "fig = plt.figure(figsize=(8,6))\n",
    "ax = fig.add_subplot(111)\n",
    "\n",
    "# colormap for scatterplot\n",
    "colours = {'pear':'green',\n",
    "    'banana':'yellow',\n",
    "    'cauliflower':'blue',\n",
    "    'ginger':'red',\n",
    "    'grannysmith':'orange'}\n",
    "\n",
    "scatter = ax.scatter(df_pca[0],df_pca[1],c=df_pca['fv_class'].map(colours))\n",
    "\n",
    "plt.xlabel('PCA Component 1')\n",
    "plt.ylabel('PCA Component 2')\n",
    "plt.title('PCA Représentation des fruit et legumes par catégorie')\n",
    "plt.show()"
   ]
  },
  {
   "cell_type": "markdown",
   "metadata": {},
   "source": [
    "# SEABORN SCATTERPLOT"
   ]
  },
  {
   "cell_type": "code",
   "execution_count": 11,
   "metadata": {},
   "outputs": [
    {
     "data": {
      "image/png": "[encoded data removed]",
      "text/plain": [
       "<Figure size 800x600 with 1 Axes>"
      ]
     },
     "metadata": {},
     "output_type": "display_data"
    }
   ],
   "source": [
    "# scatter with seaborn\n",
    "\n",
    "# start plot\n",
    "fig = plt.figure(figsize=(8,6))\n",
    "ax = fig.add_subplot(111)\n",
    "\n",
    "sns.scatterplot(data=df_pca, x=0, y=1, hue='fv_class')\n",
    "plt.xlabel('PCA Component 1')\n",
    "plt.ylabel('PCA Component 2')\n",
    "plt.title('PCA Représentation des fruit et legumes par catégorie')\n",
    "plt.show()"
   ]
  }
 ],
 "metadata": {
  "kernelspec": {
   "display_name": "Python 3.7.13 ('tf2')",
   "language": "python",
   "name": "python3"
  },
  "language_info": {
   "codemirror_mode": {
    "name": "ipython",
    "version": 3
   },
   "file_extension": ".py",
   "mimetype": "text/x-python",
   "name": "python",
   "nbconvert_exporter": "python",
   "pygments_lexer": "ipython3",
   "version": "3.7.13"
  },
  "orig_nbformat": 4,
  "vscode": {
   "interpreter": {
    "hash": "bcb764b9a00f62e40f983adef7b01fce9cd131e3380f7d357619ca1e66e08949"
   }
  }
 },
 "nbformat": 4,
 "nbformat_minor": 2
}
