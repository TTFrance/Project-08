{
 "cells": [
  {
   "cell_type": "code",
   "execution_count": 71,
   "metadata": {},
   "outputs": [
    {
     "name": "stdout",
     "output_type": "stream",
     "text": [
      "3.4.2\n"
     ]
    }
   ],
   "source": [
    "import os\n",
    "import csv \n",
    "from pathlib import Path\n",
    "# import random\n",
    "import time\n",
    "\n",
    "import pandas as pd\n",
    "import numpy as np\n",
    "\n",
    "import cv2 \n",
    "print (cv2.__version__)"
   ]
  },
  {
   "cell_type": "code",
   "execution_count": 72,
   "metadata": {},
   "outputs": [],
   "source": [
    "from tensorflow.keras.models import Sequential"
   ]
  },
  {
   "cell_type": "markdown",
   "metadata": {},
   "source": [
    "# CONSTANTS"
   ]
  },
  {
   "cell_type": "code",
   "execution_count": 73,
   "metadata": {},
   "outputs": [],
   "source": [
    "RAW_DATA_FILE_PATH = 'data/raw/'                # path to cleaned data folder\n",
    "CLEANED_DATA_FILE_PATH = 'data/cleaned/'        # path to cleaned data folder\n",
    "IMAGES_DIR = \"data/raw/\"                          # full set of 1050 images\n",
    "#IMAGES_DIR = \"images_subset/\"                   # subset of images"
   ]
  },
  {
   "cell_type": "markdown",
   "metadata": {},
   "source": [
    "# FUNCTIONS"
   ]
  },
  {
   "cell_type": "code",
   "execution_count": 74,
   "metadata": {},
   "outputs": [],
   "source": [
    "def construct_category(str_breadcrumbs):\n",
    "    # remove start [\" and end \"]\n",
    "    str_breadcrumbs = str_breadcrumbs.replace('[\"','')\n",
    "    str_breadcrumbs = str_breadcrumbs.replace('\"]','')\n",
    "    # split on ' >> '\n",
    "    crumbs = str_breadcrumbs.split(' >> ')\n",
    "\n",
    "    # return only first category\n",
    "    return crumbs[0]\n",
    "\n",
    "# write a csv file\n",
    "def write_df_to_csv(df,path,filename):\n",
    "    try:\n",
    "        df.to_csv(path + filename, index=False)\n",
    "        print('Data saved as csv')\n",
    "        return True\n",
    "    except Exception as e: \n",
    "        print(e)\n",
    "        print('X - Error in fnSaveData')\n",
    "        return False\n",
    "\n",
    "# write a pickle file\n",
    "def write_df_to_pickle(df,path,filename):\n",
    "    try:\n",
    "        df.to_pickle(path + filename, protocol=4)\n",
    "        print('Data saved as pickle')\n",
    "        return True\n",
    "    except Exception as e: \n",
    "        print(e)\n",
    "        print('X - Error in fnSaveData')\n",
    "        return False\n",
    "\n",
    "# save the vectorizer matrix\n",
    "def save_matrix(df,vectorizer_name):\n",
    "    df = df.drop(columns=['tsne_comp_1','tsne_comp_2','kmeans_cluster'], errors='ignore')\n",
    "    if write_df_to_csv(df,CLEANED_DATA_FILE_PATH,vectorizer_name + '.csv'):\n",
    "        print ('Matrix for ' + vectorizer_name + ' saved in ' + CLEANED_DATA_FILE_PATH + vectorizer_name + '.csv')\n",
    "    df = df.set_index('uniq_id')\n",
    "    if write_df_to_pickle(df,CLEANED_DATA_FILE_PATH,vectorizer_name + '.pkl'):\n",
    "        print ('Matrix for ' + vectorizer_name + ' saved in ' + CLEANED_DATA_FILE_PATH + vectorizer_name + '.pkl')\n",
    "\n",
    "def create_vec_df_to_save(array,images,df):\n",
    "    df_vec = pd.DataFrame(array)\n",
    "    df_vec['filename'] = images\n",
    "    df_vec = df[['image','uniq_id','product_category']].merge(df_vec, how='right', left_on='image', right_on='filename')\n",
    "    df_vec = df_vec.drop(columns=['filename','image'])\n",
    "    df_vec.head(3)\n",
    "    return df_vec\n",
    "\n",
    "def preprocess_images(ppi,my_new_model):\n",
    "    feature_list = []\n",
    "    images = [f for f in os.listdir(IMAGES_DIR)]\n",
    "    image_num = 0\n",
    "    for image in images:\n",
    "        image_num = image_num + 1\n",
    "        if image_num%10 == 0 : print(image_num,image)\n",
    "        file = IMAGES_DIR+image\n",
    "        #print(file)\n",
    "        im = cv2.imread(file)\n",
    "        im = cv2.resize(im,(256,256))\n",
    "        img = ppi(np.expand_dims(im.copy(), axis=0))\n",
    "        feature = my_new_model.predict(img)\n",
    "        feature_np = np.array(feature)\n",
    "        feature_list.append(feature_np.flatten())\n",
    "    array = np.array(feature_list)\n",
    "    return array, images\n"
   ]
  },
  {
   "cell_type": "code",
   "execution_count": 75,
   "metadata": {},
   "outputs": [],
   "source": [
    "def run_model(model,ppi,model_name):\n",
    "    start = time.time()\n",
    "    my_new_model = Sequential()\n",
    "    my_new_model.add(model)\n",
    "    # Say not to train first layer (ResNet) model. It is already trained\n",
    "    my_new_model.layers[0].trainable = False\n",
    "    array, images = preprocess_images(ppi,my_new_model)\n",
    "    # create df to save\n",
    "\n",
    "    return array,images\n",
    "    df_vec = create_vec_df_to_save(array,images,fv)\n",
    "    # save matrix dataframe\n",
    "    save_matrix(df_vec,model_name)\n",
    "    end = time.time()\n",
    "    print('time:',end - start)"
   ]
  },
  {
   "cell_type": "markdown",
   "metadata": {},
   "source": [
    "# PROJECT 8"
   ]
  },
  {
   "cell_type": "code",
   "execution_count": 76,
   "metadata": {},
   "outputs": [
    {
     "data": {
      "text/html": [
       "<div>\n",
       "<style scoped>\n",
       "    .dataframe tbody tr th:only-of-type {\n",
       "        vertical-align: middle;\n",
       "    }\n",
       "\n",
       "    .dataframe tbody tr th {\n",
       "        vertical-align: top;\n",
       "    }\n",
       "\n",
       "    .dataframe thead th {\n",
       "        text-align: right;\n",
       "    }\n",
       "</style>\n",
       "<table border=\"1\" class=\"dataframe\">\n",
       "  <thead>\n",
       "    <tr style=\"text-align: right;\">\n",
       "      <th></th>\n",
       "      <th>filename</th>\n",
       "      <th>fv_class</th>\n",
       "    </tr>\n",
       "  </thead>\n",
       "  <tbody>\n",
       "    <tr>\n",
       "      <th>0</th>\n",
       "      <td>Banana 0_100.jpg</td>\n",
       "      <td>Banana</td>\n",
       "    </tr>\n",
       "    <tr>\n",
       "      <th>1</th>\n",
       "      <td>Banana 128_100.jpg</td>\n",
       "      <td>Banana</td>\n",
       "    </tr>\n",
       "    <tr>\n",
       "      <th>2</th>\n",
       "      <td>Banana 180_100.jpg</td>\n",
       "      <td>Banana</td>\n",
       "    </tr>\n",
       "    <tr>\n",
       "      <th>3</th>\n",
       "      <td>Banana 270_100.jpg</td>\n",
       "      <td>Banana</td>\n",
       "    </tr>\n",
       "    <tr>\n",
       "      <th>4</th>\n",
       "      <td>Banana 35_100.jpg</td>\n",
       "      <td>Banana</td>\n",
       "    </tr>\n",
       "    <tr>\n",
       "      <th>5</th>\n",
       "      <td>Banana 90_100.jpg</td>\n",
       "      <td>Banana</td>\n",
       "    </tr>\n",
       "    <tr>\n",
       "      <th>6</th>\n",
       "      <td>Cauliflower 0_100.jpg</td>\n",
       "      <td>Cauliflower</td>\n",
       "    </tr>\n",
       "    <tr>\n",
       "      <th>7</th>\n",
       "      <td>Cauliflower 114_100.jpg</td>\n",
       "      <td>Cauliflower</td>\n",
       "    </tr>\n",
       "    <tr>\n",
       "      <th>8</th>\n",
       "      <td>Cauliflower 167_100.jpg</td>\n",
       "      <td>Cauliflower</td>\n",
       "    </tr>\n",
       "    <tr>\n",
       "      <th>9</th>\n",
       "      <td>Cauliflower 235_100.jpg</td>\n",
       "      <td>Cauliflower</td>\n",
       "    </tr>\n",
       "    <tr>\n",
       "      <th>10</th>\n",
       "      <td>Cauliflower 80_100.jpg</td>\n",
       "      <td>Cauliflower</td>\n",
       "    </tr>\n",
       "    <tr>\n",
       "      <th>11</th>\n",
       "      <td>Cauliflower 93_100.jpg</td>\n",
       "      <td>Cauliflower</td>\n",
       "    </tr>\n",
       "    <tr>\n",
       "      <th>12</th>\n",
       "      <td>Ginger 120_100.jpg</td>\n",
       "      <td>Ginger</td>\n",
       "    </tr>\n",
       "    <tr>\n",
       "      <th>13</th>\n",
       "      <td>Ginger 158_100.jpg</td>\n",
       "      <td>Ginger</td>\n",
       "    </tr>\n",
       "    <tr>\n",
       "      <th>14</th>\n",
       "      <td>Ginger 176_100.jpg</td>\n",
       "      <td>Ginger</td>\n",
       "    </tr>\n",
       "    <tr>\n",
       "      <th>15</th>\n",
       "      <td>Ginger 2_100.jpg</td>\n",
       "      <td>Ginger</td>\n",
       "    </tr>\n",
       "    <tr>\n",
       "      <th>16</th>\n",
       "      <td>Ginger 67_100.jpg</td>\n",
       "      <td>Ginger</td>\n",
       "    </tr>\n",
       "    <tr>\n",
       "      <th>17</th>\n",
       "      <td>Ginger 77_100.jpg</td>\n",
       "      <td>Ginger</td>\n",
       "    </tr>\n",
       "    <tr>\n",
       "      <th>18</th>\n",
       "      <td>Granny Smith 0_100.jpg</td>\n",
       "      <td>Granny</td>\n",
       "    </tr>\n",
       "    <tr>\n",
       "      <th>19</th>\n",
       "      <td>Granny Smith 100_100.jpg</td>\n",
       "      <td>Granny</td>\n",
       "    </tr>\n",
       "    <tr>\n",
       "      <th>20</th>\n",
       "      <td>Granny Smith 13_100.jpg</td>\n",
       "      <td>Granny</td>\n",
       "    </tr>\n",
       "    <tr>\n",
       "      <th>21</th>\n",
       "      <td>Granny Smith 165_100.jpg</td>\n",
       "      <td>Granny</td>\n",
       "    </tr>\n",
       "    <tr>\n",
       "      <th>22</th>\n",
       "      <td>Granny Smith 180_100.jpg</td>\n",
       "      <td>Granny</td>\n",
       "    </tr>\n",
       "    <tr>\n",
       "      <th>23</th>\n",
       "      <td>Granny Smith 270_100.jpg</td>\n",
       "      <td>Granny</td>\n",
       "    </tr>\n",
       "    <tr>\n",
       "      <th>24</th>\n",
       "      <td>Pear 0_100.jpg</td>\n",
       "      <td>Pear</td>\n",
       "    </tr>\n",
       "    <tr>\n",
       "      <th>25</th>\n",
       "      <td>Pear 104_100.jpg</td>\n",
       "      <td>Pear</td>\n",
       "    </tr>\n",
       "    <tr>\n",
       "      <th>26</th>\n",
       "      <td>Pear 118_100.jpg</td>\n",
       "      <td>Pear</td>\n",
       "    </tr>\n",
       "    <tr>\n",
       "      <th>27</th>\n",
       "      <td>Pear 133_100.jpg</td>\n",
       "      <td>Pear</td>\n",
       "    </tr>\n",
       "    <tr>\n",
       "      <th>28</th>\n",
       "      <td>Pear 148_100.jpg</td>\n",
       "      <td>Pear</td>\n",
       "    </tr>\n",
       "    <tr>\n",
       "      <th>29</th>\n",
       "      <td>Pear 158_100.jpg</td>\n",
       "      <td>Pear</td>\n",
       "    </tr>\n",
       "    <tr>\n",
       "      <th>30</th>\n",
       "      <td>Pear 17_100.jpg</td>\n",
       "      <td>Pear</td>\n",
       "    </tr>\n",
       "  </tbody>\n",
       "</table>\n",
       "</div>"
      ],
      "text/plain": [
       "                    filename     fv_class\n",
       "0           Banana 0_100.jpg       Banana\n",
       "1         Banana 128_100.jpg       Banana\n",
       "2         Banana 180_100.jpg       Banana\n",
       "3         Banana 270_100.jpg       Banana\n",
       "4          Banana 35_100.jpg       Banana\n",
       "5          Banana 90_100.jpg       Banana\n",
       "6      Cauliflower 0_100.jpg  Cauliflower\n",
       "7    Cauliflower 114_100.jpg  Cauliflower\n",
       "8    Cauliflower 167_100.jpg  Cauliflower\n",
       "9    Cauliflower 235_100.jpg  Cauliflower\n",
       "10    Cauliflower 80_100.jpg  Cauliflower\n",
       "11    Cauliflower 93_100.jpg  Cauliflower\n",
       "12        Ginger 120_100.jpg       Ginger\n",
       "13        Ginger 158_100.jpg       Ginger\n",
       "14        Ginger 176_100.jpg       Ginger\n",
       "15          Ginger 2_100.jpg       Ginger\n",
       "16         Ginger 67_100.jpg       Ginger\n",
       "17         Ginger 77_100.jpg       Ginger\n",
       "18    Granny Smith 0_100.jpg       Granny\n",
       "19  Granny Smith 100_100.jpg       Granny\n",
       "20   Granny Smith 13_100.jpg       Granny\n",
       "21  Granny Smith 165_100.jpg       Granny\n",
       "22  Granny Smith 180_100.jpg       Granny\n",
       "23  Granny Smith 270_100.jpg       Granny\n",
       "24            Pear 0_100.jpg         Pear\n",
       "25          Pear 104_100.jpg         Pear\n",
       "26          Pear 118_100.jpg         Pear\n",
       "27          Pear 133_100.jpg         Pear\n",
       "28          Pear 148_100.jpg         Pear\n",
       "29          Pear 158_100.jpg         Pear\n",
       "30           Pear 17_100.jpg         Pear"
      ]
     },
     "execution_count": 76,
     "metadata": {},
     "output_type": "execute_result"
    }
   ],
   "source": [
    "# read images, create df of filenames, and class (which type)\n",
    "\n",
    "fv = pd.DataFrame(columns=['filename','fv_class'])\n",
    "\n",
    "for filename in os.listdir(RAW_DATA_FILE_PATH):\n",
    "    f = os.path.join(RAW_DATA_FILE_PATH, filename)\n",
    "    # checking if it is a file\n",
    "    if os.path.isfile(f):\n",
    "        fv_class = filename[:filename.find(' ')]\n",
    "        fv.loc[len(fv)] = [filename,fv_class]\n",
    "        \n",
    "fv"
   ]
  },
  {
   "cell_type": "markdown",
   "metadata": {},
   "source": [
    "# VECTORIZATION"
   ]
  },
  {
   "cell_type": "markdown",
   "metadata": {},
   "source": [
    "## VGG16"
   ]
  },
  {
   "cell_type": "code",
   "execution_count": 77,
   "metadata": {},
   "outputs": [
    {
     "name": "stdout",
     "output_type": "stream",
     "text": [
      "10 Cauliflower 235_100.jpg\n",
      "20 Granny Smith 100_100.jpg\n",
      "30 Pear 158_100.jpg\n"
     ]
    }
   ],
   "source": [
    "from tensorflow.keras.applications.vgg16 import VGG16\n",
    "from tensorflow.keras.applications.vgg16 import preprocess_input as ppi_vgg16\n",
    "model = VGG16(include_top=False, pooling='avg', weights='imagenet')\n",
    "array,images = run_model(model,ppi_vgg16,'VGG16')"
   ]
  },
  {
   "cell_type": "markdown",
   "metadata": {},
   "source": [
    "# CREATE DF FOR TSNE, PCA, KMEANS"
   ]
  },
  {
   "cell_type": "code",
   "execution_count": 78,
   "metadata": {},
   "outputs": [
    {
     "data": {
      "text/html": [
       "<div>\n",
       "<style scoped>\n",
       "    .dataframe tbody tr th:only-of-type {\n",
       "        vertical-align: middle;\n",
       "    }\n",
       "\n",
       "    .dataframe tbody tr th {\n",
       "        vertical-align: top;\n",
       "    }\n",
       "\n",
       "    .dataframe thead th {\n",
       "        text-align: right;\n",
       "    }\n",
       "</style>\n",
       "<table border=\"1\" class=\"dataframe\">\n",
       "  <thead>\n",
       "    <tr style=\"text-align: right;\">\n",
       "      <th></th>\n",
       "      <th>0</th>\n",
       "      <th>1</th>\n",
       "      <th>2</th>\n",
       "      <th>3</th>\n",
       "      <th>4</th>\n",
       "      <th>5</th>\n",
       "      <th>6</th>\n",
       "      <th>7</th>\n",
       "      <th>8</th>\n",
       "      <th>9</th>\n",
       "      <th>...</th>\n",
       "      <th>504</th>\n",
       "      <th>505</th>\n",
       "      <th>506</th>\n",
       "      <th>507</th>\n",
       "      <th>508</th>\n",
       "      <th>509</th>\n",
       "      <th>510</th>\n",
       "      <th>511</th>\n",
       "      <th>filename</th>\n",
       "      <th>fv_class</th>\n",
       "    </tr>\n",
       "  </thead>\n",
       "  <tbody>\n",
       "    <tr>\n",
       "      <th>26</th>\n",
       "      <td>3.400645</td>\n",
       "      <td>0.000000</td>\n",
       "      <td>2.366819</td>\n",
       "      <td>0.368504</td>\n",
       "      <td>2.550495</td>\n",
       "      <td>1.132311</td>\n",
       "      <td>0.157406</td>\n",
       "      <td>0.248959</td>\n",
       "      <td>0.000000</td>\n",
       "      <td>0.828768</td>\n",
       "      <td>...</td>\n",
       "      <td>1.176907</td>\n",
       "      <td>0.185506</td>\n",
       "      <td>5.092254</td>\n",
       "      <td>1.215058</td>\n",
       "      <td>0.000000</td>\n",
       "      <td>0.000000</td>\n",
       "      <td>0.171087</td>\n",
       "      <td>0.0</td>\n",
       "      <td>Pear 118_100.jpg</td>\n",
       "      <td>Pear</td>\n",
       "    </tr>\n",
       "    <tr>\n",
       "      <th>27</th>\n",
       "      <td>1.988882</td>\n",
       "      <td>0.332160</td>\n",
       "      <td>2.170422</td>\n",
       "      <td>0.409024</td>\n",
       "      <td>2.337032</td>\n",
       "      <td>0.483578</td>\n",
       "      <td>0.108098</td>\n",
       "      <td>0.000000</td>\n",
       "      <td>0.133328</td>\n",
       "      <td>0.913934</td>\n",
       "      <td>...</td>\n",
       "      <td>1.508667</td>\n",
       "      <td>0.849734</td>\n",
       "      <td>3.996593</td>\n",
       "      <td>0.866202</td>\n",
       "      <td>0.000000</td>\n",
       "      <td>0.046472</td>\n",
       "      <td>0.209033</td>\n",
       "      <td>0.0</td>\n",
       "      <td>Pear 133_100.jpg</td>\n",
       "      <td>Pear</td>\n",
       "    </tr>\n",
       "    <tr>\n",
       "      <th>28</th>\n",
       "      <td>1.675247</td>\n",
       "      <td>0.135137</td>\n",
       "      <td>1.056939</td>\n",
       "      <td>0.715775</td>\n",
       "      <td>2.505499</td>\n",
       "      <td>0.610032</td>\n",
       "      <td>0.276875</td>\n",
       "      <td>0.177360</td>\n",
       "      <td>0.010623</td>\n",
       "      <td>0.670084</td>\n",
       "      <td>...</td>\n",
       "      <td>1.233358</td>\n",
       "      <td>0.322029</td>\n",
       "      <td>4.093109</td>\n",
       "      <td>1.134185</td>\n",
       "      <td>0.004168</td>\n",
       "      <td>0.000000</td>\n",
       "      <td>0.150460</td>\n",
       "      <td>0.0</td>\n",
       "      <td>Pear 148_100.jpg</td>\n",
       "      <td>Pear</td>\n",
       "    </tr>\n",
       "    <tr>\n",
       "      <th>29</th>\n",
       "      <td>2.175446</td>\n",
       "      <td>0.516710</td>\n",
       "      <td>2.501349</td>\n",
       "      <td>0.986106</td>\n",
       "      <td>1.569823</td>\n",
       "      <td>0.502298</td>\n",
       "      <td>1.194437</td>\n",
       "      <td>0.000000</td>\n",
       "      <td>0.117546</td>\n",
       "      <td>0.767123</td>\n",
       "      <td>...</td>\n",
       "      <td>0.974395</td>\n",
       "      <td>0.423638</td>\n",
       "      <td>5.339666</td>\n",
       "      <td>0.865014</td>\n",
       "      <td>0.000000</td>\n",
       "      <td>0.000000</td>\n",
       "      <td>0.052661</td>\n",
       "      <td>0.0</td>\n",
       "      <td>Pear 158_100.jpg</td>\n",
       "      <td>Pear</td>\n",
       "    </tr>\n",
       "    <tr>\n",
       "      <th>30</th>\n",
       "      <td>1.137218</td>\n",
       "      <td>0.000000</td>\n",
       "      <td>1.862713</td>\n",
       "      <td>0.140231</td>\n",
       "      <td>3.057057</td>\n",
       "      <td>0.685076</td>\n",
       "      <td>0.000000</td>\n",
       "      <td>0.454548</td>\n",
       "      <td>0.000000</td>\n",
       "      <td>1.192062</td>\n",
       "      <td>...</td>\n",
       "      <td>0.309300</td>\n",
       "      <td>0.056651</td>\n",
       "      <td>4.855635</td>\n",
       "      <td>1.008081</td>\n",
       "      <td>0.000000</td>\n",
       "      <td>0.000000</td>\n",
       "      <td>0.138792</td>\n",
       "      <td>0.0</td>\n",
       "      <td>Pear 17_100.jpg</td>\n",
       "      <td>Pear</td>\n",
       "    </tr>\n",
       "  </tbody>\n",
       "</table>\n",
       "<p>5 rows × 514 columns</p>\n",
       "</div>"
      ],
      "text/plain": [
       "           0         1         2         3         4         5         6  \\\n",
       "26  3.400645  0.000000  2.366819  0.368504  2.550495  1.132311  0.157406   \n",
       "27  1.988882  0.332160  2.170422  0.409024  2.337032  0.483578  0.108098   \n",
       "28  1.675247  0.135137  1.056939  0.715775  2.505499  0.610032  0.276875   \n",
       "29  2.175446  0.516710  2.501349  0.986106  1.569823  0.502298  1.194437   \n",
       "30  1.137218  0.000000  1.862713  0.140231  3.057057  0.685076  0.000000   \n",
       "\n",
       "           7         8         9  ...       504       505       506       507  \\\n",
       "26  0.248959  0.000000  0.828768  ...  1.176907  0.185506  5.092254  1.215058   \n",
       "27  0.000000  0.133328  0.913934  ...  1.508667  0.849734  3.996593  0.866202   \n",
       "28  0.177360  0.010623  0.670084  ...  1.233358  0.322029  4.093109  1.134185   \n",
       "29  0.000000  0.117546  0.767123  ...  0.974395  0.423638  5.339666  0.865014   \n",
       "30  0.454548  0.000000  1.192062  ...  0.309300  0.056651  4.855635  1.008081   \n",
       "\n",
       "         508       509       510  511          filename  fv_class  \n",
       "26  0.000000  0.000000  0.171087  0.0  Pear 118_100.jpg      Pear  \n",
       "27  0.000000  0.046472  0.209033  0.0  Pear 133_100.jpg      Pear  \n",
       "28  0.004168  0.000000  0.150460  0.0  Pear 148_100.jpg      Pear  \n",
       "29  0.000000  0.000000  0.052661  0.0  Pear 158_100.jpg      Pear  \n",
       "30  0.000000  0.000000  0.138792  0.0   Pear 17_100.jpg      Pear  \n",
       "\n",
       "[5 rows x 514 columns]"
      ]
     },
     "execution_count": 78,
     "metadata": {},
     "output_type": "execute_result"
    }
   ],
   "source": [
    "# create df from model vector\n",
    "df_vec = pd.DataFrame(array)\n",
    "\n",
    "# add image filename\n",
    "df_vec['filename'] = images\n",
    "\n",
    "df_vec['fv_class'] = fv.fv_class\n",
    "df_vec.tail()"
   ]
  },
  {
   "cell_type": "markdown",
   "metadata": {},
   "source": [
    "# RUN PCA FOR REDUCTION"
   ]
  },
  {
   "cell_type": "code",
   "execution_count": 79,
   "metadata": {},
   "outputs": [],
   "source": [
    "from sklearn import manifold, decomposition"
   ]
  },
  {
   "cell_type": "code",
   "execution_count": 80,
   "metadata": {},
   "outputs": [
    {
     "data": {
      "text/plain": [
       "(31, 514)"
      ]
     },
     "execution_count": 80,
     "metadata": {},
     "output_type": "execute_result"
    }
   ],
   "source": [
    "df_vec.shape"
   ]
  },
  {
   "cell_type": "code",
   "execution_count": 81,
   "metadata": {},
   "outputs": [
    {
     "data": {
      "text/plain": [
       "(31, 25)"
      ]
     },
     "execution_count": 81,
     "metadata": {},
     "output_type": "execute_result"
    }
   ],
   "source": [
    "pca = decomposition.PCA(n_components=0.99)\n",
    "array_pca_out = pca.fit_transform(df_vec.drop(columns=['filename','fv_class']))\n",
    "df_new = pd.DataFrame(array_pca_out)\n",
    "df_new['filename'] = df_vec['filename']\n",
    "df_new['fv_class'] = df_vec['fv_class']\n",
    "df_new.shape"
   ]
  },
  {
   "cell_type": "markdown",
   "metadata": {},
   "source": [
    "# RUN TSNE FOR PLOTTING"
   ]
  },
  {
   "cell_type": "code",
   "execution_count": 82,
   "metadata": {},
   "outputs": [],
   "source": [
    "df_mdl = df_new.drop(['filename', 'fv_class'], axis=1, errors='ignore')"
   ]
  },
  {
   "cell_type": "code",
   "execution_count": 83,
   "metadata": {},
   "outputs": [],
   "source": [
    "tsne = manifold.TSNE(n_components=2, perplexity=100, n_iter=2000, \n",
    "                    init='random', random_state=42, learning_rate='auto')\n",
    "projection = tsne.fit_transform(df_mdl)"
   ]
  },
  {
   "cell_type": "markdown",
   "metadata": {},
   "source": [
    "# KMEANS"
   ]
  },
  {
   "cell_type": "code",
   "execution_count": 84,
   "metadata": {},
   "outputs": [],
   "source": [
    "from sklearn import cluster, metrics"
   ]
  },
  {
   "cell_type": "code",
   "execution_count": 85,
   "metadata": {},
   "outputs": [
    {
     "data": {
      "text/plain": [
       "KMeans(n_clusters=5, n_init=100, random_state=42)"
      ]
     },
     "execution_count": 85,
     "metadata": {},
     "output_type": "execute_result"
    }
   ],
   "source": [
    "# run KMEANS, to produce the clustering using the tsne results as input\n",
    "# print define Kmeans\n",
    "kmeans = cluster.KMeans(n_clusters=5, n_init=100, random_state=42, init='k-means++')\n",
    "kmeans.fit(df_mdl)\n"
   ]
  },
  {
   "cell_type": "code",
   "execution_count": 86,
   "metadata": {},
   "outputs": [
    {
     "data": {
      "text/html": [
       "<div>\n",
       "<style scoped>\n",
       "    .dataframe tbody tr th:only-of-type {\n",
       "        vertical-align: middle;\n",
       "    }\n",
       "\n",
       "    .dataframe tbody tr th {\n",
       "        vertical-align: top;\n",
       "    }\n",
       "\n",
       "    .dataframe thead th {\n",
       "        text-align: right;\n",
       "    }\n",
       "</style>\n",
       "<table border=\"1\" class=\"dataframe\">\n",
       "  <thead>\n",
       "    <tr style=\"text-align: right;\">\n",
       "      <th></th>\n",
       "      <th>0</th>\n",
       "      <th>1</th>\n",
       "      <th>2</th>\n",
       "      <th>3</th>\n",
       "      <th>4</th>\n",
       "      <th>5</th>\n",
       "      <th>6</th>\n",
       "      <th>7</th>\n",
       "      <th>8</th>\n",
       "      <th>9</th>\n",
       "      <th>...</th>\n",
       "      <th>18</th>\n",
       "      <th>19</th>\n",
       "      <th>20</th>\n",
       "      <th>21</th>\n",
       "      <th>22</th>\n",
       "      <th>kmeans_cluster</th>\n",
       "      <th>tsne1</th>\n",
       "      <th>tsne2</th>\n",
       "      <th>filename</th>\n",
       "      <th>fv_class</th>\n",
       "    </tr>\n",
       "  </thead>\n",
       "  <tbody>\n",
       "    <tr>\n",
       "      <th>0</th>\n",
       "      <td>-13.445768</td>\n",
       "      <td>28.239614</td>\n",
       "      <td>-10.660436</td>\n",
       "      <td>-9.676561</td>\n",
       "      <td>3.032860</td>\n",
       "      <td>1.948665</td>\n",
       "      <td>2.272466</td>\n",
       "      <td>0.572680</td>\n",
       "      <td>4.899180</td>\n",
       "      <td>-4.012837</td>\n",
       "      <td>...</td>\n",
       "      <td>-0.013202</td>\n",
       "      <td>3.728123</td>\n",
       "      <td>-0.624636</td>\n",
       "      <td>-0.991885</td>\n",
       "      <td>-3.104257</td>\n",
       "      <td>3</td>\n",
       "      <td>-1.176294</td>\n",
       "      <td>-2.649664</td>\n",
       "      <td>Banana 0_100.jpg</td>\n",
       "      <td>Banana</td>\n",
       "    </tr>\n",
       "    <tr>\n",
       "      <th>1</th>\n",
       "      <td>-9.528513</td>\n",
       "      <td>33.791370</td>\n",
       "      <td>-7.880566</td>\n",
       "      <td>-15.732278</td>\n",
       "      <td>-10.073254</td>\n",
       "      <td>-4.905876</td>\n",
       "      <td>-2.429302</td>\n",
       "      <td>-0.437181</td>\n",
       "      <td>-5.124746</td>\n",
       "      <td>2.000661</td>\n",
       "      <td>...</td>\n",
       "      <td>4.694873</td>\n",
       "      <td>8.208426</td>\n",
       "      <td>1.526045</td>\n",
       "      <td>1.746210</td>\n",
       "      <td>0.074067</td>\n",
       "      <td>3</td>\n",
       "      <td>-1.170382</td>\n",
       "      <td>-2.647987</td>\n",
       "      <td>Banana 128_100.jpg</td>\n",
       "      <td>Banana</td>\n",
       "    </tr>\n",
       "    <tr>\n",
       "      <th>2</th>\n",
       "      <td>-9.287179</td>\n",
       "      <td>20.528790</td>\n",
       "      <td>-7.583988</td>\n",
       "      <td>-6.991084</td>\n",
       "      <td>14.269303</td>\n",
       "      <td>18.321703</td>\n",
       "      <td>2.314918</td>\n",
       "      <td>-0.976992</td>\n",
       "      <td>0.578252</td>\n",
       "      <td>-6.357923</td>\n",
       "      <td>...</td>\n",
       "      <td>-0.515627</td>\n",
       "      <td>1.304176</td>\n",
       "      <td>-0.501988</td>\n",
       "      <td>-0.800421</td>\n",
       "      <td>-0.262201</td>\n",
       "      <td>3</td>\n",
       "      <td>-1.176730</td>\n",
       "      <td>-2.645480</td>\n",
       "      <td>Banana 180_100.jpg</td>\n",
       "      <td>Banana</td>\n",
       "    </tr>\n",
       "    <tr>\n",
       "      <th>3</th>\n",
       "      <td>-13.679565</td>\n",
       "      <td>31.402523</td>\n",
       "      <td>-10.529594</td>\n",
       "      <td>-14.269199</td>\n",
       "      <td>-2.204153</td>\n",
       "      <td>-2.502553</td>\n",
       "      <td>-0.133933</td>\n",
       "      <td>1.222026</td>\n",
       "      <td>1.713147</td>\n",
       "      <td>-3.330533</td>\n",
       "      <td>...</td>\n",
       "      <td>-2.571580</td>\n",
       "      <td>-6.592553</td>\n",
       "      <td>0.354569</td>\n",
       "      <td>3.453317</td>\n",
       "      <td>4.130130</td>\n",
       "      <td>3</td>\n",
       "      <td>-1.175944</td>\n",
       "      <td>-2.643760</td>\n",
       "      <td>Banana 270_100.jpg</td>\n",
       "      <td>Banana</td>\n",
       "    </tr>\n",
       "    <tr>\n",
       "      <th>4</th>\n",
       "      <td>-13.047629</td>\n",
       "      <td>14.865832</td>\n",
       "      <td>-4.829874</td>\n",
       "      <td>-3.293043</td>\n",
       "      <td>11.230541</td>\n",
       "      <td>19.767576</td>\n",
       "      <td>-0.606293</td>\n",
       "      <td>-2.445284</td>\n",
       "      <td>1.517169</td>\n",
       "      <td>12.026182</td>\n",
       "      <td>...</td>\n",
       "      <td>0.063448</td>\n",
       "      <td>-1.754209</td>\n",
       "      <td>0.567187</td>\n",
       "      <td>0.335454</td>\n",
       "      <td>1.046427</td>\n",
       "      <td>3</td>\n",
       "      <td>-1.170547</td>\n",
       "      <td>-2.648267</td>\n",
       "      <td>Banana 35_100.jpg</td>\n",
       "      <td>Banana</td>\n",
       "    </tr>\n",
       "  </tbody>\n",
       "</table>\n",
       "<p>5 rows × 28 columns</p>\n",
       "</div>"
      ],
      "text/plain": [
       "           0          1          2          3          4          5         6  \\\n",
       "0 -13.445768  28.239614 -10.660436  -9.676561   3.032860   1.948665  2.272466   \n",
       "1  -9.528513  33.791370  -7.880566 -15.732278 -10.073254  -4.905876 -2.429302   \n",
       "2  -9.287179  20.528790  -7.583988  -6.991084  14.269303  18.321703  2.314918   \n",
       "3 -13.679565  31.402523 -10.529594 -14.269199  -2.204153  -2.502553 -0.133933   \n",
       "4 -13.047629  14.865832  -4.829874  -3.293043  11.230541  19.767576 -0.606293   \n",
       "\n",
       "          7         8          9  ...        18        19        20        21  \\\n",
       "0  0.572680  4.899180  -4.012837  ... -0.013202  3.728123 -0.624636 -0.991885   \n",
       "1 -0.437181 -5.124746   2.000661  ...  4.694873  8.208426  1.526045  1.746210   \n",
       "2 -0.976992  0.578252  -6.357923  ... -0.515627  1.304176 -0.501988 -0.800421   \n",
       "3  1.222026  1.713147  -3.330533  ... -2.571580 -6.592553  0.354569  3.453317   \n",
       "4 -2.445284  1.517169  12.026182  ...  0.063448 -1.754209  0.567187  0.335454   \n",
       "\n",
       "         22  kmeans_cluster     tsne1     tsne2            filename  fv_class  \n",
       "0 -3.104257               3 -1.176294 -2.649664    Banana 0_100.jpg    Banana  \n",
       "1  0.074067               3 -1.170382 -2.647987  Banana 128_100.jpg    Banana  \n",
       "2 -0.262201               3 -1.176730 -2.645480  Banana 180_100.jpg    Banana  \n",
       "3  4.130130               3 -1.175944 -2.643760  Banana 270_100.jpg    Banana  \n",
       "4  1.046427               3 -1.170547 -2.648267   Banana 35_100.jpg    Banana  \n",
       "\n",
       "[5 rows x 28 columns]"
      ]
     },
     "execution_count": 86,
     "metadata": {},
     "output_type": "execute_result"
    }
   ],
   "source": [
    "df_mdl['kmeans_cluster'] = kmeans.labels_\n",
    "df_mdl['tsne1'] = pd.DataFrame(data=projection)[0]\n",
    "df_mdl['tsne2'] = pd.DataFrame(data=projection)[1]\n",
    "\n",
    "df_mdl['filename'] = df_vec['filename']\n",
    "df_mdl['fv_class'] = df_vec['fv_class']\n",
    "\n",
    "df_mdl.head(5)"
   ]
  },
  {
   "cell_type": "markdown",
   "metadata": {},
   "source": [
    "# MAP CLASSES"
   ]
  },
  {
   "cell_type": "code",
   "execution_count": 87,
   "metadata": {},
   "outputs": [],
   "source": [
    "df_mdl['fv_class'] = pd.Categorical(df_mdl['fv_class'])\n",
    "df_mdl['fv_class_code'] = df_mdl['fv_class'].cat.codes"
   ]
  },
  {
   "cell_type": "code",
   "execution_count": 88,
   "metadata": {},
   "outputs": [],
   "source": [
    "from itertools import permutations\n",
    "import warnings\n",
    "warnings.filterwarnings(\"ignore\")"
   ]
  },
  {
   "cell_type": "code",
   "execution_count": 89,
   "metadata": {},
   "outputs": [
    {
     "name": "stdout",
     "output_type": "stream",
     "text": [
      "              precision    recall  f1-score   support\n",
      "\n",
      "           0       1.00      1.00      1.00         6\n",
      "           1       1.00      1.00      1.00         6\n",
      "           2       1.00      1.00      1.00         6\n",
      "           3       1.00      1.00      1.00         6\n",
      "           4       1.00      1.00      1.00         7\n",
      "\n",
      "    accuracy                           1.00        31\n",
      "   macro avg       1.00      1.00      1.00        31\n",
      "weighted avg       1.00      1.00      1.00        31\n",
      "\n"
     ]
    }
   ],
   "source": [
    "# map real category labels to kmeans labels, based on the clustering\n",
    "y_true = df_mdl.fv_class_code\n",
    "y_pred = kmeans.labels_\n",
    "best_precision = 0\n",
    "for permutation in permutations(range(5), 5):\n",
    "    y_pred_ = np.array([permutation[i] for i in y_pred])\n",
    "    cm_precision = np.round(metrics.precision_recall_fscore_support(y_true,y_pred_,labels=permutation,average='weighted')[0],4)\n",
    "    if cm_precision > best_precision: \n",
    "        best_precision = cm_precision\n",
    "        best_permutation = permutation\n",
    "y_pred_ = np.array([best_permutation[i] for i in y_pred])\n",
    "cm_accuracy  = np.round(metrics.accuracy_score(y_true,y_pred_),4)\n",
    "\n",
    "# produce confusion matrix / heatmap\n",
    "cm = metrics.confusion_matrix(y_true, y_pred_,labels=best_permutation)\n",
    "\n",
    "report = metrics.classification_report(y_true, y_pred_)\n",
    "print (report)\n",
    "\n"
   ]
  },
  {
   "cell_type": "code",
   "execution_count": 90,
   "metadata": {},
   "outputs": [],
   "source": [
    "import seaborn as sns"
   ]
  },
  {
   "cell_type": "code",
   "execution_count": 91,
   "metadata": {},
   "outputs": [
    {
     "data": {
      "text/plain": [
       "'14203'"
      ]
     },
     "execution_count": 91,
     "metadata": {},
     "output_type": "execute_result"
    }
   ],
   "source": [
    "LIST_LABELS = [                                     \n",
    "               'Banana',\n",
    "               'Cauliflower',\n",
    "               'Ginger',\n",
    "               'Granny',\n",
    "               'Pear'\n",
    "               ]\n",
    "\n",
    "columns = ''.join(str(x) for x in best_permutation)\n",
    "columns"
   ]
  },
  {
   "cell_type": "code",
   "execution_count": 92,
   "metadata": {},
   "outputs": [],
   "source": [
    "\n",
    "df_cm = pd.DataFrame(cm, index = [label for label in LIST_LABELS],\n",
    "                        columns = [i for i in columns])\n",
    "                        \n"
   ]
  },
  {
   "cell_type": "code",
   "execution_count": 94,
   "metadata": {},
   "outputs": [
    {
     "data": {
      "image/png": "[encoded data removed]",
      "text/plain": [
       "<Figure size 600x400 with 2 Axes>"
      ]
     },
     "metadata": {},
     "output_type": "display_data"
    }
   ],
   "source": [
    "plt.figure(figsize = (6,4))\n",
    "ax = sns.heatmap(df_cm, annot=True, cmap=\"Blues\", fmt='g')\n",
    "ax.set_title('Confusion Matrix Heatmap for fv')\n",
    "plt.show()"
   ]
  },
  {
   "cell_type": "markdown",
   "metadata": {},
   "source": [
    "# PLOT"
   ]
  },
  {
   "cell_type": "code",
   "execution_count": 95,
   "metadata": {},
   "outputs": [],
   "source": [
    "import matplotlib.pyplot as plt"
   ]
  },
  {
   "cell_type": "code",
   "execution_count": 97,
   "metadata": {},
   "outputs": [
    {
     "name": "stderr",
     "output_type": "stream",
     "text": [
      "No artists with labels found to put in legend.  Note that artists whose label start with an underscore are ignored when legend() is called with no argument.\n"
     ]
    },
    {
     "data": {
      "text/plain": [
       "Text(0.5, 1.0, 'Représentation des fv par clusters')"
      ]
     },
     "execution_count": 97,
     "metadata": {},
     "output_type": "execute_result"
    },
    {
     "data": {
      "image/png": "[encoded data removed]",
      "text/plain": [
       "<Figure size 1600x600 with 2 Axes>"
      ]
     },
     "metadata": {},
     "output_type": "display_data"
    }
   ],
   "source": [
    "fig = plt.figure(figsize=(16,6))\n",
    "\n",
    "ax = fig.add_subplot(121)\n",
    "scatter = ax.scatter(df_mdl[\"tsne1\"],df_mdl[\"tsne2\"], c=df_mdl[\"fv_class_code\"], cmap='Set1')\n",
    "ax.legend(handles=scatter.legend_elements()[0], labels=set(df_mdl[\"fv_class\"]), loc=\"best\", title=\"Category\")\n",
    "plt.title('Représentation des fv par catégories réelles')\n",
    "\n",
    "ax = fig.add_subplot(122)\n",
    "scatter = ax.scatter(df_mdl[\"tsne1\"],df_mdl[\"tsne2\"])\n",
    "ax.legend(handles=scatter.legend_elements()[0], labels=set(y_pred_), loc=\"best\", title=\"Clusters\")\n",
    "plt.title('Représentation des fv par clusters')\n",
    "\n"
   ]
  }
 ],
 "metadata": {
  "kernelspec": {
   "display_name": "Python 3.7.13 ('tf2')",
   "language": "python",
   "name": "python3"
  },
  "language_info": {
   "codemirror_mode": {
    "name": "ipython",
    "version": 3
   },
   "file_extension": ".py",
   "mimetype": "text/x-python",
   "name": "python",
   "nbconvert_exporter": "python",
   "pygments_lexer": "ipython3",
   "version": "3.7.13"
  },
  "orig_nbformat": 4,
  "vscode": {
   "interpreter": {
    "hash": "bcb764b9a00f62e40f983adef7b01fce9cd131e3380f7d357619ca1e66e08949"
   }
  }
 },
 "nbformat": 4,
 "nbformat_minor": 2
}
